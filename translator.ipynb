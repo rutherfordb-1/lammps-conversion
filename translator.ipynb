{
 "cells": [
  {
   "cell_type": "code",
   "execution_count": 1,
   "metadata": {},
   "outputs": [],
   "source": [
    "import os"
   ]
  },
  {
   "cell_type": "code",
   "execution_count": 2,
   "metadata": {},
   "outputs": [],
   "source": [
    "file = os.path.join(\"atomistic\",\"ucer2_hairpin_charmm\",\"ucer2.itp\")"
   ]
  },
  {
   "cell_type": "code",
   "execution_count": 3,
   "metadata": {},
   "outputs": [],
   "source": [
    "outfile = open(file,'r')\n",
    "data = outfile.readlines()\n",
    "outfile.close()"
   ]
  },
  {
   "cell_type": "code",
   "execution_count": 4,
   "metadata": {},
   "outputs": [],
   "source": [
    "line_counter,startline,endline= 1,0,0\n",
    "for line in data:\n",
    "    if line == '[ bonds ]\\n':\n",
    "        endline = line_counter - 2\n",
    "    if line == '; nr type resnr residue atom cgnr charge\\n':\n",
    "        startline = line_counter\n",
    "    line_counter += 1\n",
    "dictdata = data[startline:endline]"
   ]
  },
  {
   "cell_type": "code",
   "execution_count": 5,
   "metadata": {},
   "outputs": [],
   "source": [
    "master_dict = {}\n",
    "masses = {}\n",
    "charges = {}\n",
    "for line in dictdata:\n",
    "    line = line.split(\" \")\n",
    "    master_dict[line[0]] = line[1]\n",
    "    charges[line[1]] = line[-1]"
   ]
  },
  {
   "cell_type": "code",
   "execution_count": 6,
   "metadata": {},
   "outputs": [],
   "source": [
    "line_counter,startline,endline= 1,0,0\n",
    "for line in data:\n",
    "    if line == '[ bonds ]\\n':\n",
    "        startline = line_counter + 1\n",
    "    if line == '[ angles ]\\n':\n",
    "        endline = line_counter - 2\n",
    "    line_counter += 1\n",
    "bondlist = data[startline:endline]"
   ]
  },
  {
   "cell_type": "code",
   "execution_count": 7,
   "metadata": {},
   "outputs": [],
   "source": [
    "bond_params = []\n",
    "translated_bonds = []\n",
    "for bond in bondlist:\n",
    "    bond = bond.split(' ')\n",
    "    bond[0] = master_dict[str(bond[0])]\n",
    "    bond[1] = master_dict[str(bond[1])]\n",
    "    s = ' '\n",
    "    bond = s.join(bond)\n",
    "    translated_bonds.append(bond)\n",
    "    if bond not in bond_params:\n",
    "        bond_params.append(bond)\n"
   ]
  },
  {
   "cell_type": "code",
   "execution_count": 8,
   "metadata": {},
   "outputs": [],
   "source": [
    "line_counter,startline,endline= 1,0,0\n",
    "for line in data:\n",
    "    if line == '[ angles ]\\n':\n",
    "        startline = line_counter + 1\n",
    "    if line == '[ dihedrals ]\\n':\n",
    "        endline = line_counter - 2\n",
    "    line_counter += 1\n",
    "anglelist = data[startline:endline]\n",
    "angle_params = []\n",
    "translated_angles = []\n",
    "for angle in anglelist:\n",
    "    angle = angle.split(' ')\n",
    "    angle[0] = master_dict[str(angle[0])]\n",
    "    angle[1] = master_dict[str(angle[1])]\n",
    "    angle[2] = master_dict[str(angle[2])]\n",
    "    s = ' '\n",
    "    angle = s.join(angle)\n",
    "    translated_angles.append(angle)\n",
    "    if angle not in angle_params:\n",
    "        angle_params.append(angle)"
   ]
  },
  {
   "cell_type": "code",
   "execution_count": 9,
   "metadata": {},
   "outputs": [],
   "source": [
    "line_counter,startline,endline= 1,0,0\n",
    "for line in data:\n",
    "    if line == '[ dihedrals ]\\n':\n",
    "        startline = line_counter + 1\n",
    "    if line == '[ dihedrals ] ; impropers\\n':\n",
    "        endline = line_counter - 2\n",
    "    line_counter += 1\n",
    "dihedrallist = data[startline:endline]\n",
    "dihedral_params = []\n",
    "translated_dihedrals = []\n",
    "for dihedral in dihedrallist:\n",
    "    dihedral = dihedral.split(' ')\n",
    "    dihedral[0] = master_dict[str(dihedral[0])]\n",
    "    dihedral[1] = master_dict[str(dihedral[1])]\n",
    "    dihedral[2] = master_dict[str(dihedral[2])]\n",
    "    dihedral[3] = master_dict[str(dihedral[3])]\n",
    "    s = ' '\n",
    "    dihedral = s.join(dihedral)\n",
    "    translated_dihedrals.append(dihedral)\n",
    "    if dihedral not in dihedral_params:\n",
    "        dihedral_params.append(dihedral)"
   ]
  },
  {
   "cell_type": "code",
   "execution_count": 10,
   "metadata": {},
   "outputs": [],
   "source": [
    "line_counter,startline,endline= 1,0,0\n",
    "for line in data:\n",
    "    if line == '[ dihedrals ] ; impropers\\n':\n",
    "        startline = line_counter + 1\n",
    "    if line == '[ pairs ]\\n':\n",
    "        endline = line_counter - 2\n",
    "    line_counter += 1\n",
    "improperlist = data[startline:endline]\n",
    "improper_params = []\n",
    "translated_impropers = []\n",
    "for improper in improperlist:\n",
    "    improper = improper.split(' ')\n",
    "    improper[0] = master_dict[str(improper[0])]\n",
    "    improper[1] = master_dict[str(improper[1])]\n",
    "    improper[2] = master_dict[str(improper[2])]\n",
    "    improper[3] = master_dict[str(improper[3])]\n",
    "    s = ' '\n",
    "    improper = s.join(improper)\n",
    "    translated_impropers.append(improper)\n",
    "    if improper not in improper_params:\n",
    "        improper_params.append(improper)"
   ]
  },
  {
   "cell_type": "code",
   "execution_count": 11,
   "metadata": {},
   "outputs": [],
   "source": [
    "atoms = []\n",
    "for atom in master_dict.values():\n",
    "    if atom not in atoms:\n",
    "        atoms.append(atom)"
   ]
  },
  {
   "cell_type": "code",
   "execution_count": 12,
   "metadata": {},
   "outputs": [],
   "source": [
    "output = open('translated.txt','w+')\n",
    "output.write('<atomtypes>\\n')\n",
    "for atom in atoms:\n",
    "    output.write(F'{atom}\\n')\n",
    "output.write('<atomtypes>\\n')\n",
    "output.write('\\n')\n",
    "output.write('<bonds>\\n')\n",
    "for bond in bond_params:\n",
    "    output.write(F'{bond}')\n",
    "output.write('<bonds>\\n')\n",
    "output.write('\\n')\n",
    "output.write('<angles>\\n')\n",
    "for angle in angle_params:\n",
    "    output.write(F'{angle}')\n",
    "output.write('<angles>\\n')\n",
    "output.write('\\n')\n",
    "output.write('<dihedrals>\\n')\n",
    "for dihedral in dihedral_params:\n",
    "    output.write(F'{dihedral}')\n",
    "output.write('<dihedrals>\\n')\n",
    "output.write('\\n')\n",
    "output.write('<impropers>\\n')\n",
    "for improper in improper_params:\n",
    "    output.write(F'{improper}')\n",
    "output.write('<impropers>\\n')\n",
    "output.close()"
   ]
  },
  {
   "cell_type": "code",
   "execution_count": 22,
   "metadata": {},
   "outputs": [],
   "source": [
    "# convert things into correct format to add to master list\n",
    "xml_bonds = []\n",
    "for bond in bond_params:\n",
    "    bond = bond.strip('\\n')\n",
    "    elements = bond.split(' ')\n",
    "    xml_bond = F'    <Bond type1=\"{elements[0]}\" type2=\"{elements[1]}\" length=\"{elements[3]}\" k=\"{elements[-1]}\"/>\\n'\n",
    "    xml_bonds.append(xml_bond)\n",
    "master_data = open('foyer_charmm.xml','r').readlines()\n",
    "line_counter,startline,endline= 1,0,0\n",
    "for line in master_data:\n",
    "    if line == '  <HarmonicBondForce>\\n':\n",
    "        startline = line_counter\n",
    "    if line == '  </HarmonicBondForce>\\n':\n",
    "        endline = line_counter - 1\n",
    "    line_counter += 1\n",
    "existing_bonds = master_data[startline:endline]\n",
    "existing_bondtypes = []\n",
    "for bond in existing_bonds:\n",
    "    bond = bond.split('\"')\n",
    "    bondtype = [bond[1], bond[3]]\n",
    "    alt = [bond[3], bond[1]]\n",
    "    existing_bondtypes.append(bondtype)\n",
    "    existing_bondtypes.append(alt)\n",
    "out = open('bond_add.txt','w+')\n",
    "for bond in xml_bonds:\n",
    "    bond1 = bond.split('\"')\n",
    "    bondtype = [bond1[1], bond1[3]]\n",
    "    if bondtype not in existing_bondtypes:\n",
    "        out.write(bond)\n",
    "out.close()\n"
   ]
  },
  {
   "cell_type": "code",
   "execution_count": 23,
   "metadata": {},
   "outputs": [],
   "source": [
    "xml_angles = []\n",
    "for angle in angle_params:\n",
    "    angle = angle.strip('\\n')\n",
    "    elements = angle.split(' ')\n",
    "    xml_angle = F'    <Angle type1=\"{elements[0]}\" type2=\"{elements[1]}\" type2=\"{elements[2]}\" angle=\"{elements[4]}\" k=\"{elements[-1]}\"/>\\n'\n",
    "    xml_angles.append(xml_angle)\n",
    "master_data = open('foyer_charmm.xml','r').readlines()\n",
    "line_counter,startline,endline= 1,0,0\n",
    "for line in master_data:\n",
    "    if line == '  <HarmonicAngleForce>\\n':\n",
    "        startline = line_counter\n",
    "    if line == '  </HarmonicAngleForce>\\n':\n",
    "        endline = line_counter - 1\n",
    "    line_counter += 1\n",
    "existing_angles = master_data[startline:endline]\n",
    "existing_angletypes = []\n",
    "for angle in existing_angles:\n",
    "    angle = angle.split('\"')\n",
    "    existing_angletypes.append([angle[1], angle[3], angle[5]])\n",
    "    existing_angletypes.append([angle[3], angle[1], angle[5]])\n",
    "    existing_angletypes.append([angle[5], angle[3], angle[1]])\n",
    "    existing_angletypes.append([angle[3], angle[5], angle[1]])\n",
    "    existing_angletypes.append([angle[5], angle[1], angle[3]])\n",
    "    existing_angletypes.append([angle[1], angle[5], angle[3]])\n",
    "    \n",
    "out = open('angle_add.txt','w+')\n",
    "for angle in xml_angles:\n",
    "    angle1 = angle.split('\"')\n",
    "    type = [angle1[1], angle1[3], angle1[5]]\n",
    "    if type not in existing_angletypes:\n",
    "        out.write(angle)\n",
    "out.close()"
   ]
  },
  {
   "cell_type": "code",
   "execution_count": 24,
   "metadata": {},
   "outputs": [
    {
     "name": "stdout",
     "output_type": "stream",
     "text": [
      "40\n"
     ]
    }
   ],
   "source": []
  },
  {
   "cell_type": "code",
   "execution_count": null,
   "metadata": {},
   "outputs": [],
   "source": []
  }
 ],
 "metadata": {
  "kernelspec": {
   "display_name": "Python 3",
   "language": "python",
   "name": "python3"
  },
  "language_info": {
   "codemirror_mode": {
    "name": "ipython",
    "version": 3
   },
   "file_extension": ".py",
   "mimetype": "text/x-python",
   "name": "python",
   "nbconvert_exporter": "python",
   "pygments_lexer": "ipython3",
   "version": "3.7.4"
  }
 },
 "nbformat": 4,
 "nbformat_minor": 2
}
